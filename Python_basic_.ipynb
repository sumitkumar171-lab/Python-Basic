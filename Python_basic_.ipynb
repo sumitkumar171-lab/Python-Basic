{
 "cells": [
  {
   "cell_type": "code",
   "execution_count": null,
   "id": "f4772e96-b4f0-47e9-bb03-32ecb439f4bf",
   "metadata": {},
   "outputs": [],
   "source": [
    "'''\n",
    "q-1>What is Python, and why is it popular?\n",
    "Python is a high-level, interpreted programming language that was created by Guido van Rossum and first released in 1991. It is known for \n",
    "its simplicity, readability, and versatility. Python is widely used for a variety of applications, from web development to data analysis,\n",
    "artificial intelligence and automation.\n",
    "'''"
   ]
  },
  {
   "cell_type": "code",
   "execution_count": null,
   "id": "d06ac3a8-3129-479e-8ce2-cdce2014ff5b",
   "metadata": {},
   "outputs": [],
   "source": [
    "'''\n",
    "q-2> What is an interpreter in Python?\n",
    "An interpreter in Python is a program that reads and executes Python code line by line,the entire source code is converted into machine code that is 0's & \n",
    "1's format.\n",
    "Interpreter Working :\n",
    "1.Reading the Code\n",
    "2.Parsing\n",
    "3.Execution\n",
    "'''"
   ]
  },
  {
   "cell_type": "code",
   "execution_count": 13,
   "id": "5fa93569-0137-4e6d-b435-95cd779953e0",
   "metadata": {},
   "outputs": [
    {
     "name": "stdout",
     "output_type": "stream",
     "text": [
      "Python Keywords are as follows:\n",
      "False\n",
      "None\n",
      "True\n",
      "and\n",
      "as\n",
      "assert\n",
      "async\n",
      "await\n",
      "break\n",
      "class\n",
      "continue\n",
      "def\n",
      "del\n",
      "elif\n",
      "else\n",
      "except\n",
      "finally\n",
      "for\n",
      "from\n",
      "global\n",
      "if\n",
      "import\n",
      "in\n",
      "is\n",
      "lambda\n",
      "nonlocal\n",
      "not\n",
      "or\n",
      "pass\n",
      "raise\n",
      "return\n",
      "try\n",
      "while\n",
      "with\n",
      "yield\n"
     ]
    }
   ],
   "source": [
    "'''\n",
    "q-3> What are pre-defined keywords in Python?\n",
    "q-3> Write code to print all the pre-defined keywords in Python using the keyword library? form (Assignment 1.1)\n",
    "\n",
    "'''\n",
    "import keyword\n",
    "keywords = keyword.kwlist\n",
    "print(\"Python Keywords are as follows:\")\n",
    "for i in keywords:\n",
    "    print(i)\n",
    "\n"
   ]
  },
  {
   "cell_type": "code",
   "execution_count": null,
   "id": "9b554e8e-f4ba-4b63-bf19-d152ec09a266",
   "metadata": {},
   "outputs": [],
   "source": [
    "'''\n",
    "q-4> Can keywords be used as variable names?\n",
    "No.\n",
    "'''"
   ]
  },
  {
   "cell_type": "code",
   "execution_count": null,
   "id": "1cc6535b-02dd-49a5-a549-e33668124bdb",
   "metadata": {},
   "outputs": [],
   "source": [
    "'''\n",
    "q-5> What is mutability in Python?\n",
    "\n",
    "Objects whose state or contents cannot be changed after they are created.\n",
    "Tuples: Can't be change the values of elements in a tuple after it's created.\n",
    "Strings: can't be change a character in a string directly.\n",
    "Integers, Floats, Booleans:Can't be  modify their value once they are assigned.\n",
    "'''"
   ]
  },
  {
   "cell_type": "code",
   "execution_count": null,
   "id": "6756134f-cb1e-487d-ab2e-f71086d63a09",
   "metadata": {},
   "outputs": [],
   "source": [
    "'''\n",
    "q-6> Why are lists mutable, but tuples are immutable?\n",
    "Lists are mutable and backed by dynamic arrays in Python .Tuples, being immutable, are stored more efficiently in memory.\n",
    "'''"
   ]
  },
  {
   "cell_type": "code",
   "execution_count": null,
   "id": "ae92c5ce-b93d-4508-8c04-1a1c74577dfe",
   "metadata": {},
   "outputs": [],
   "source": [
    "'''\n",
    "q-7> What is the difference between “==” and “is” operators in Python?\n",
    "==: It is an Equality Operator basically used for checking the values of two variables are equal and also does not consider whether the two \n",
    "variables reference the same object in memory.\n",
    "is : It is an Identity Operator as it checks whether two variables refer to the same object in memory .\n",
    "'''"
   ]
  },
  {
   "cell_type": "code",
   "execution_count": null,
   "id": "d829bbe0-19e6-4809-891e-935bccd2c890",
   "metadata": {},
   "outputs": [],
   "source": [
    "'''\n",
    "q-8> What are logical operators in Python?\n",
    "Logical operators are also used to control the flow of conditional statements by evaluating expressions that return True or False.\n",
    "eg: and ,or,not\n",
    "..."
   ]
  },
  {
   "cell_type": "code",
   "execution_count": null,
   "id": "032590bb-ffe9-4db4-8be5-23f2e6f8b67d",
   "metadata": {},
   "outputs": [],
   "source": [
    "'''\n",
    "q-9> What is type casting in Python?\n",
    "It is also called type conversion as it is the process of converting one data type into another.\n",
    "eg :\n",
    "a=10\n",
    "b=12\n",
    "c=a+b\n",
    "print(type(c))\n",
    "'''"
   ]
  },
  {
   "cell_type": "code",
   "execution_count": null,
   "id": "5bb5861c-cf17-429b-966d-5ef04ce206bc",
   "metadata": {},
   "outputs": [],
   "source": [
    "'''\n",
    "q-10> What is the difference between implicit and explicit type casting?\n",
    "Implicit Type Casting : As it is process as it automatic conversion of one data type into another and the task perform by Python interpreter\n",
    "casting is done by smaller type is converted to a larger type automatically.\n",
    "eg:\n",
    "print(type(c))\n",
    "Explicit Type Casting : As it is process as itdone manually converting one data type into another using functions \n",
    "Eg:\n",
    "int(), float(), str()\n",
    "s = float(n)\n",
    "'''"
   ]
  },
  {
   "cell_type": "code",
   "execution_count": null,
   "id": "e23229bf-5e19-4a60-b0ea-c2c56b9d614b",
   "metadata": {},
   "outputs": [],
   "source": [
    "'''\n",
    "q-11> 0 What is the purpose of conditional statements in Python?\n",
    "As it allow the program to make decisions and execute specific blocks of code based on certain conditions.\n",
    "'''"
   ]
  },
  {
   "cell_type": "code",
   "execution_count": null,
   "id": "7bad54b3-32e6-46b4-90a9-c8309323aa2d",
   "metadata": {},
   "outputs": [],
   "source": [
    "'''\n",
    "q-12> How does the elif statement work?\n",
    "It is also known as else if condition too.\n",
    "eg:\n",
    "tempreture=input (\"Enter the tempreture :\")\n",
    "if tempreture >= 90:\n",
    "    print(\"tempreture is high\")\n",
    "elif tempreture >= 80:\n",
    "    print(\"tempreture is medium\")\n",
    "elif tempreture >= 70:\n",
    "    print(\"tempreture is low\")\n",
    "else:\n",
    "    print(\"Kindly put the valid tempreture\")\n",
    "'''\n"
   ]
  },
  {
   "cell_type": "code",
   "execution_count": null,
   "id": "782e6bfc-fbcc-4792-b343-33658ef8f341",
   "metadata": {},
   "outputs": [],
   "source": [
    "'''\n",
    "q-13> What is the difference between for and while loops?\n",
    "for loop: Used when the number of iterations is known before.\n",
    "e.g:\n",
    "list, tuple, range\n",
    "It works with fixed-length data.\n",
    "while loop : Used when the number of iterations is unknown.\n",
    "eg:\n",
    "user input, real-time updates\n",
    "'''"
   ]
  },
  {
   "cell_type": "code",
   "execution_count": null,
   "id": "a587ff47-43b3-4378-b87d-06d743018e30",
   "metadata": {},
   "outputs": [],
   "source": [
    "'''\n",
    "q-14>  Describe a scenario where a while loop is more suitable than a for loop?\n",
    "while loop :\n",
    "1.ATM Withdrawal\n",
    "2.Web Scraping\n",
    "3.Sensor Monitoring\n",
    "'''"
   ]
  },
  {
   "cell_type": "code",
   "execution_count": null,
   "id": "24aca8b6-3f19-4f86-b0aa-c229acb8d6f4",
   "metadata": {},
   "outputs": [],
   "source": [
    "'''\n",
    "Assignment-1.1\n",
    "'''"
   ]
  },
  {
   "cell_type": "code",
   "execution_count": 1,
   "id": "74354139-328c-4178-abaf-223a923d04ad",
   "metadata": {},
   "outputs": [
    {
     "name": "stdout",
     "output_type": "stream",
     "text": [
      "Hello,World ! \n"
     ]
    }
   ],
   "source": [
    "'''\n",
    "q-1>  Write a Python program to print \"Hello, World!?\n",
    "'''\n",
    "print (\"Hello,World ! \")"
   ]
  },
  {
   "cell_type": "code",
   "execution_count": 3,
   "id": "5845a0c7-3185-4568-b647-3309b4e97a3d",
   "metadata": {},
   "outputs": [
    {
     "name": "stdin",
     "output_type": "stream",
     "text": [
      "Enter your name : Alex\n",
      "Enter your age: 45\n"
     ]
    },
    {
     "name": "stdout",
     "output_type": "stream",
     "text": [
      "Alex\n",
      "45\n"
     ]
    }
   ],
   "source": [
    "'''\n",
    "q-2> Write a Python program that displays your name and age?\n",
    "'''\n",
    "name=input (\"Enter your name :\")\n",
    "age= input (\"Enter your age:\")\n",
    "print(name)\n",
    "print(int(age))\n"
   ]
  },
  {
   "cell_type": "code",
   "execution_count": 25,
   "id": "55828751-7ff7-41bd-8429-e5b7773633df",
   "metadata": {},
   "outputs": [
    {
     "name": "stdin",
     "output_type": "stream",
     "text": [
      "Enter a word to check if it's a Python keyword or not :  float\n"
     ]
    },
    {
     "name": "stdout",
     "output_type": "stream",
     "text": [
      "'float' is not a Python keyword.\n"
     ]
    }
   ],
   "source": [
    "'''\n",
    "q-4> Write a program that checks if a given word is a Python keyword ?\n",
    "'''\n",
    "import keyword\n",
    "def k(w):\n",
    "    if keyword.iskeyword(w):  \n",
    "        print(f\"'{w}' is a Python keyword.\")\n",
    "    else:\n",
    "        print(f\"'{w}' is not a Python keyword.\")\n",
    "check = input(\"Enter a word to check if it's a Python keyword or not : \")\n",
    "k(check)\n",
    "\n"
   ]
  },
  {
   "cell_type": "code",
   "execution_count": 37,
   "id": "1985361e-84c2-4bb3-b932-50ea54199d05",
   "metadata": {},
   "outputs": [
    {
     "name": "stdout",
     "output_type": "stream",
     "text": [
      "[1, 2, 3, 4, 5, 6]\n",
      "(1, 2, 3, 4, 5, 6)\n",
      "[1, 2, 3, 4, 55, 6, 'sumit']\n"
     ]
    },
    {
     "ename": "TypeError",
     "evalue": "'tuple' object does not support item assignment",
     "output_type": "error",
     "traceback": [
      "\u001b[1;31m---------------------------------------------------------------------------\u001b[0m",
      "\u001b[1;31mTypeError\u001b[0m                                 Traceback (most recent call last)",
      "Cell \u001b[1;32mIn[37], line 11\u001b[0m\n\u001b[0;32m      9\u001b[0m list1[\u001b[38;5;241m4\u001b[39m]\u001b[38;5;241m=\u001b[39m\u001b[38;5;241m55\u001b[39m\n\u001b[0;32m     10\u001b[0m \u001b[38;5;28mprint\u001b[39m(list1)\n\u001b[1;32m---> 11\u001b[0m tuple1[\u001b[38;5;241m2\u001b[39m]\u001b[38;5;241m=\u001b[39m\u001b[38;5;241m66\u001b[39m\n\u001b[0;32m     12\u001b[0m \u001b[38;5;28mprint\u001b[39m(tuple1)\n",
      "\u001b[1;31mTypeError\u001b[0m: 'tuple' object does not support item assignment"
     ]
    }
   ],
   "source": [
    "'''\n",
    "q-5> Create a list and tuple in Python, and demonstrate how attempting to change an element works differently for each?\n",
    "'''\n",
    "list1=[1,2,3,4,5,6]\n",
    "print(list1)\n",
    "tuple1=(1,2,3,4,5,6)\n",
    "print(tuple1)\n",
    "list1.append(\"sumit\")\n",
    "list1[4]=55\n",
    "print(list1)\n",
    "tuple1[2]=66\n",
    "print(tuple1)\n"
   ]
  },
  {
   "cell_type": "code",
   "execution_count": 41,
   "id": "2eec04b1-8149-4f84-abd7-de3a574d8351",
   "metadata": {},
   "outputs": [
    {
     "name": "stdout",
     "output_type": "stream",
     "text": [
      "Before modifying mutable argument (list): [1, 2, 3]\n",
      "After modifying mutable argument (list): [1, 2, 3, 4]\n",
      "Before modifying immutable argument (integer): 5\n",
      "After modifying immutable argument (integer): 6\n",
      "\n",
      " Outside function:\n",
      "x (immutable) after function call: 5\n",
      "y (mutable) after function call: [1, 2, 3, 4]\n"
     ]
    }
   ],
   "source": [
    "'''\n",
    "q-6>  Write a function to demonstrate the behavior of mutable and immutable arguments?\n",
    "q-7>  Write a function to demonstrate the behavior of mutable and immutable arguments0\n",
    "\n",
    "'''\n",
    "def T(q,t):\n",
    "    print(\"Before modifying mutable argument (list):\", t)\n",
    "    t.append(4)  \n",
    "    print(\"After modifying mutable argument (list):\", t)\n",
    "    print(\"Before modifying immutable argument (integer):\", q)\n",
    "    q += 1  \n",
    "    print(\"After modifying immutable argument (integer):\", q)\n",
    "x = 5       \n",
    "y = [1, 2, 3]  \n",
    "T(x, y)\n",
    "print(\"\\n Outside function:\")\n",
    "print(\"x (immutable) after function call:\", x)\n",
    "print(\"y (mutable) after function call:\", y)\n"
   ]
  },
  {
   "cell_type": "code",
   "execution_count": 47,
   "id": "6d6c53b4-196e-4ff0-af15-2b9007ffce38",
   "metadata": {},
   "outputs": [
    {
     "name": "stdout",
     "output_type": "stream",
     "text": [
      "Both conditions are True: 70 > 55 and 489 < 10000\n",
      "Both conditions are False for `or` operator\n",
      "Condition is False for `not` operator: 70 is less than 75\n"
     ]
    }
   ],
   "source": [
    "'''\n",
    "q-8> Write a program to demonstrate the use of logical operators?\n",
    "'''\n",
    "def operators_demo(a, b):\n",
    "    if a > 55 and b < 10000:\n",
    "        print(f\"Both conditions are True: {a} > 55 and {b} < 10000\")\n",
    "    else:\n",
    "        print(f\"At least one condition is False for `and` operator\")\n",
    "    if a > 90 or b < 85:\n",
    "        print(f\"At least one condition is True: {a} > 90 or {b} < 85\")\n",
    "    else:\n",
    "        print(f\"Both conditions are False for `or` operator\")\n",
    "    if not (a < 75):\n",
    "        print(f\"Condition is True for `not` operator: {a} is not less than 75\")\n",
    "    else:\n",
    "        print(f\"Condition is False for `not` operator: {a} is less than 75\")\n",
    "x = 70\n",
    "y = 489\n",
    "operators_demo(x, y)\n"
   ]
  },
  {
   "cell_type": "code",
   "execution_count": 49,
   "id": "15235685-b6af-4496-9881-130428f31b8d",
   "metadata": {},
   "outputs": [
    {
     "name": "stdin",
     "output_type": "stream",
     "text": [
      "Enter a value:  12\n"
     ]
    },
    {
     "name": "stdout",
     "output_type": "stream",
     "text": [
      "Integer: 12\n",
      "Float: 12.0\n",
      "Boolean: True\n"
     ]
    }
   ],
   "source": [
    "'''\n",
    "q-9> Write a Python program to convert user input from string to integer, float, and boolean types?\n",
    "'''\n",
    "def convert():\n",
    "    r = input(\"Enter a value: \")\n",
    "    try:\n",
    "        value = int(r)\n",
    "        print(f\"Integer: {r}\")\n",
    "    except ValueError:\n",
    "        print(\"Can not convert to integer.\")\n",
    "    try:\n",
    "        value1 = float(r)\n",
    "        print(f\"Float: {value1}\")\n",
    "    except ValueError:\n",
    "        print(\"Can not convert to float.\")\n",
    "    value2 = bool(r) \n",
    "    print(f\"Boolean: {value2}\")\n",
    "convert()\n",
    "\n",
    "\n"
   ]
  },
  {
   "cell_type": "code",
   "execution_count": 53,
   "id": "1ca4d195-b748-488f-a76a-96ca9eeaac40",
   "metadata": {},
   "outputs": [
    {
     "name": "stdout",
     "output_type": "stream",
     "text": [
      "List converted to integers: [1, 0, 0, 7, 0, 0]\n",
      "List converted to floats: [1.0, 14.5, 0.0, 7.0, 0.0, 0.0]\n",
      "List converted to strings: ['1', '14.5', 'True', '7', '8Q.6', 'Sumit']\n",
      "List converted to booleans: [True, True, True, True, True, True]\n"
     ]
    }
   ],
   "source": [
    "'''\n",
    "q-10>  Write code to demonstrate type casting with list elements ?\n",
    "'''\n",
    "\n",
    "def casting_demo():\n",
    "    w = [\"1\", \"14.5\", \"True\", \"7\", \"8Q.6\", \"Sumit\"]\n",
    "    list1 = []\n",
    "    for i in w:\n",
    "        try:\n",
    "            list1.append(int(i))  \n",
    "        except ValueError:\n",
    "            list1.append(0)  \n",
    "    print(f\"List converted to integers: {list1}\")\n",
    "    list2 = []\n",
    "    for i in w:\n",
    "        try:\n",
    "            list2.append(float(i))  \n",
    "        except ValueError:\n",
    "            list2.append(0.0)  \n",
    "    print(f\"List converted to floats: {list2}\")\n",
    "    list3 = [str(i) for i in w]\n",
    "    print(f\"List converted to strings: {list3}\")\n",
    "    list4 = [bool(i) for i in w]\n",
    "    print(f\"List converted to booleans: {list4}\")\n",
    "casting_demo()\n"
   ]
  },
  {
   "cell_type": "code",
   "execution_count": 67,
   "id": "ee2ee4c6-d500-4a02-b453-49853d9faf45",
   "metadata": {},
   "outputs": [
    {
     "name": "stdin",
     "output_type": "stream",
     "text": [
      "Enter a number:  0\n"
     ]
    },
    {
     "name": "stdout",
     "output_type": "stream",
     "text": [
      "The number 0.0 is zero.\n",
      "Enter the valid number greater than 0 !!!!\n"
     ]
    }
   ],
   "source": [
    "'''\n",
    "q-11> Write a program that checks if a number is positive, negative, or zero?\n",
    "'''\n",
    "def A():\n",
    "    d = float(input(\"Enter a number: \"))  \n",
    "    if d > 0:\n",
    "        print(f\"The number {d} is positive.\")\n",
    "    elif d < 0:\n",
    "        print(f\"The number {d} is negative.\")\n",
    "    else:\n",
    "        print(f\"The number {d} is zero.\")\n",
    "        print(\"Enter the valid number greater than 0 !!!!\")\n",
    "A()\n"
   ]
  },
  {
   "cell_type": "code",
   "execution_count": 71,
   "id": "d88f744b-a9bd-498a-80f4-766c17db554e",
   "metadata": {},
   "outputs": [
    {
     "name": "stdout",
     "output_type": "stream",
     "text": [
      "1\n",
      "2\n",
      "3\n",
      "4\n",
      "5\n",
      "6\n",
      "7\n",
      "8\n",
      "9\n",
      "10\n"
     ]
    }
   ],
   "source": [
    "'''\n",
    "q-12>  Write a for loop to print numbers from 1 to 10?\n",
    "'''\n",
    "\n",
    "for i in range(1,11):\n",
    "    print(i)"
   ]
  },
  {
   "cell_type": "code",
   "execution_count": 83,
   "id": "f1eef67f-08ea-475e-a11a-96f91c1a1213",
   "metadata": {},
   "outputs": [
    {
     "name": "stdout",
     "output_type": "stream",
     "text": [
      "1 2 3 4 5 6 7 8 9 10 11 12 13 14 15 16 17 18 19 20 21 22 23 24 25 26 27 28 29 30 31 32 33 34 35 36 37 38 39 40 41 42 43 44 45 46 47 48 49 50 51 52 53 54 55 56 57 58 59 60 61 62 63 64 65 66 67 68 69 70 71 72 73 74 75 76 77 78 79 80 81 82 83 84 85 86 87 88 89 90 91 92 93 94 95 96 97 98 99 100 101 102 103 104 105 106 107 108 109 110 111 112 113 114 115 116 117 118 119 120 121 122 123 124 125 126 127 128 129 130 131 132 133 134 135 136 137 138 139 140 141 142 143 144 145 146 147 148 149 150 151 152 153 154 155 156 157 158 159 160 161 162 163 164 165 166 167 168 169 170 171 172 173 174 175 176 177 178 179 180 181 182 183 184 185 186 187 188 189 190 191 192 193 194 195 196 197 198 199 200 201 202 203 204 205 206 207 208 209 210 211 212 213 214 215 216 217 218 219 220 221 222 223 224 225 226 227 228 229 230 231 232 233 234 235 236 237 238 239 240 241 242 243 244 245 246 247 248 249 250 251 252 253 254 255 256 257 258 259 260 261 262 263 264 265 266 267 268 269 270 271 272 273 274 275 276 277 278 279 280 281 282 283 284 285 286 287 288 289 290 291 292 293 294 295 296 297 298 299 300 301 302 303 304 305 306 307 308 309 310 311 312 313 314 315 316 317 318 319 320 321 322 323 324 325 326 327 328 329 330 331 332 333 334 335 336 337 338 339 340 341 342 343 344 345 346 347 348 349 350 351 352 353 354 355 356 357 358 359 360 361 362 363 364 365 366 367 368 369 370 371 372 373 374 375 376 377 378 379 380 381 382 383 384 385 386 387 388 389 390 391 392 393 394 395 396 397 398 399 400 401 402 403 404 405 406 407 408 409 410 411 412 413 414 415 416 417 418 419 420 421 422 423 424 425 426 427 428 429 430 431 432 433 434 435 436 437 438 439 440 441 442 443 444 445 446 447 448 449 450 451 452 453 454 455 456 457 458 459 460 461 462 463 464 465 466 467 468 469 470 471 472 473 474 475 476 477 478 479 480 481 482 483 484 485 486 487 488 489 490 491 492 493 494 495 496 497 498 499 500 \n",
      "Result of sum of all even numbers :  62750\n"
     ]
    }
   ],
   "source": [
    "'''\n",
    "q-13> Write a Python program to find the sum of all even numbers between 1 and 500?\n",
    "'''\n",
    "s=0\n",
    "for i in range(1,501):\n",
    "    print(i,end =\" \")\n",
    "    if i%2==0:\n",
    "        s+=i\n",
    "print(\"\\nResult of sum of all even numbers : \",s)"
   ]
  },
  {
   "cell_type": "code",
   "execution_count": 89,
   "id": "93b57dad-d7cd-4adc-8fdc-8a4d74b291c1",
   "metadata": {},
   "outputs": [
    {
     "name": "stdin",
     "output_type": "stream",
     "text": [
      "Enter a valid string:  generative AI\n"
     ]
    },
    {
     "name": "stdout",
     "output_type": "stream",
     "text": [
      "the string is reversed : IA evitareneg\n"
     ]
    }
   ],
   "source": [
    "'''\n",
    "q-14> Write a program to reverse a string using a while loop?\n",
    "'''\n",
    "def S():\n",
    "    w = input(\"Enter a valid string: \")\n",
    "    f = \"\"\n",
    "    h = len(w) - 1\n",
    "    while h >= 0:\n",
    "        f+= w[h]  \n",
    "        h-= 1 \n",
    "    print(\"the string is reversed :\",f)\n",
    "S()\n"
   ]
  },
  {
   "cell_type": "code",
   "execution_count": 91,
   "id": "85074ace-e5b4-4f5f-b3a0-e97764687fe9",
   "metadata": {},
   "outputs": [
    {
     "name": "stdin",
     "output_type": "stream",
     "text": [
      "Enter a number :  5\n"
     ]
    },
    {
     "name": "stdout",
     "output_type": "stream",
     "text": [
      "The factorial of 5 is 120\n"
     ]
    }
   ],
   "source": [
    "'''\n",
    "q-15> Write a Python program to calculate the factorial of a number provided by the user using a while loop?\n",
    "'''\n",
    "def fact_num():\n",
    "    w = int(input(\"Enter a number : \"))\n",
    "    if w < 0:\n",
    "        print(\"Kindly enter the valid number greater than 0\")\n",
    "        return\n",
    "    f = 1\n",
    "    c = w\n",
    "    while c > 0:\n",
    "        f *= c  \n",
    "        c -= 1  \n",
    "    print(f\"The factorial of {w} is {f}\")\n",
    "fact_num()\n"
   ]
  },
  {
   "cell_type": "code",
   "execution_count": null,
   "id": "33d67a08-e93d-4c3e-911a-db584a6ee24d",
   "metadata": {},
   "outputs": [],
   "source": []
  }
 ],
 "metadata": {
  "kernelspec": {
   "display_name": "Python [conda env:base] *",
   "language": "python",
   "name": "conda-base-py"
  },
  "language_info": {
   "codemirror_mode": {
    "name": "ipython",
    "version": 3
   },
   "file_extension": ".py",
   "mimetype": "text/x-python",
   "name": "python",
   "nbconvert_exporter": "python",
   "pygments_lexer": "ipython3",
   "version": "3.12.7"
  }
 },
 "nbformat": 4,
 "nbformat_minor": 5
}
